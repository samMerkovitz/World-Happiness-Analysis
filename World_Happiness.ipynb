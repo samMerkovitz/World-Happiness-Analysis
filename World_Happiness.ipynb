{
  "nbformat": 4,
  "nbformat_minor": 0,
  "metadata": {
    "colab": {
      "name": "World Happiness.ipynb",
      "provenance": [],
      "toc_visible": true
    },
    "kernelspec": {
      "name": "python3",
      "display_name": "Python 3"
    }
  },
  "cells": [
    {
      "cell_type": "markdown",
      "metadata": {
        "id": "9KCXcqivFXgI",
        "colab_type": "text"
      },
      "source": [
        "# World Happiness 2015-2019\n",
        "This python notebook is designed to explore the World Happiness Ratings of 2015 through 2019. The data is from kaggle and can be found here (https://www.kaggle.com/unsdsn/world-happiness)"
      ]
    },
    {
      "cell_type": "code",
      "metadata": {
        "id": "lT2GqfPAAbjl",
        "colab_type": "code",
        "colab": {}
      },
      "source": [
        "import pandas as pd\n",
        "import numpy as np\n",
        "import matplotlib.pyplot as plt\n",
        "%matplotlib inline\n",
        "import seaborn as sns"
      ],
      "execution_count": 0,
      "outputs": []
    },
    {
      "cell_type": "code",
      "metadata": {
        "id": "EKAeHGasnQ65",
        "colab_type": "code",
        "colab": {}
      },
      "source": [
        "sns.set(font='Franklin Gothic Book')\n",
        "sns.set_context(\"notebook\", rc={\"font.size\":16,\n",
        "                                \"axes.titlesize\":20,\n",
        "                                \"axes.labelsize\":18})"
      ],
      "execution_count": 0,
      "outputs": []
    },
    {
      "cell_type": "code",
      "metadata": {
        "id": "4Fhvm42PAog8",
        "colab_type": "code",
        "outputId": "d9f0f4a3-7364-4a29-b901-f5c71d208e5c",
        "colab": {
          "base_uri": "https://localhost:8080/",
          "height": 306
        }
      },
      "source": [
        "hp_2015 = pd.read_csv('2015.csv')\n",
        "hp_2015['Year'] = '2015'\n",
        "hp_2016 = pd.read_csv('2016.csv')\n",
        "hp_2016['Year'] = '2016'\n",
        "hp_2017 = pd.read_csv('2017.csv')\n",
        "hp_2017['Year'] = '2017'\n",
        "hp_2018 = pd.read_csv('2018.csv')\n",
        "hp_2018['Year'] = '2018'\n",
        "hp_2019 = pd.read_csv('2019.csv')\n",
        "hp_2019['Year'] = '2019'\n",
        "\n",
        "hp_2015.head()"
      ],
      "execution_count": 130,
      "outputs": [
        {
          "output_type": "execute_result",
          "data": {
            "text/html": [
              "<div>\n",
              "<style scoped>\n",
              "    .dataframe tbody tr th:only-of-type {\n",
              "        vertical-align: middle;\n",
              "    }\n",
              "\n",
              "    .dataframe tbody tr th {\n",
              "        vertical-align: top;\n",
              "    }\n",
              "\n",
              "    .dataframe thead th {\n",
              "        text-align: right;\n",
              "    }\n",
              "</style>\n",
              "<table border=\"1\" class=\"dataframe\">\n",
              "  <thead>\n",
              "    <tr style=\"text-align: right;\">\n",
              "      <th></th>\n",
              "      <th>Country</th>\n",
              "      <th>Region</th>\n",
              "      <th>Happiness Rank</th>\n",
              "      <th>Happiness Score</th>\n",
              "      <th>Standard Error</th>\n",
              "      <th>Economy (GDP per Capita)</th>\n",
              "      <th>Family</th>\n",
              "      <th>Health (Life Expectancy)</th>\n",
              "      <th>Freedom</th>\n",
              "      <th>Trust (Government Corruption)</th>\n",
              "      <th>Generosity</th>\n",
              "      <th>Dystopia Residual</th>\n",
              "      <th>Year</th>\n",
              "    </tr>\n",
              "  </thead>\n",
              "  <tbody>\n",
              "    <tr>\n",
              "      <th>0</th>\n",
              "      <td>Switzerland</td>\n",
              "      <td>Western Europe</td>\n",
              "      <td>1</td>\n",
              "      <td>7.587</td>\n",
              "      <td>0.03411</td>\n",
              "      <td>1.39651</td>\n",
              "      <td>1.34951</td>\n",
              "      <td>0.94143</td>\n",
              "      <td>0.66557</td>\n",
              "      <td>0.41978</td>\n",
              "      <td>0.29678</td>\n",
              "      <td>2.51738</td>\n",
              "      <td>2015</td>\n",
              "    </tr>\n",
              "    <tr>\n",
              "      <th>1</th>\n",
              "      <td>Iceland</td>\n",
              "      <td>Western Europe</td>\n",
              "      <td>2</td>\n",
              "      <td>7.561</td>\n",
              "      <td>0.04884</td>\n",
              "      <td>1.30232</td>\n",
              "      <td>1.40223</td>\n",
              "      <td>0.94784</td>\n",
              "      <td>0.62877</td>\n",
              "      <td>0.14145</td>\n",
              "      <td>0.43630</td>\n",
              "      <td>2.70201</td>\n",
              "      <td>2015</td>\n",
              "    </tr>\n",
              "    <tr>\n",
              "      <th>2</th>\n",
              "      <td>Denmark</td>\n",
              "      <td>Western Europe</td>\n",
              "      <td>3</td>\n",
              "      <td>7.527</td>\n",
              "      <td>0.03328</td>\n",
              "      <td>1.32548</td>\n",
              "      <td>1.36058</td>\n",
              "      <td>0.87464</td>\n",
              "      <td>0.64938</td>\n",
              "      <td>0.48357</td>\n",
              "      <td>0.34139</td>\n",
              "      <td>2.49204</td>\n",
              "      <td>2015</td>\n",
              "    </tr>\n",
              "    <tr>\n",
              "      <th>3</th>\n",
              "      <td>Norway</td>\n",
              "      <td>Western Europe</td>\n",
              "      <td>4</td>\n",
              "      <td>7.522</td>\n",
              "      <td>0.03880</td>\n",
              "      <td>1.45900</td>\n",
              "      <td>1.33095</td>\n",
              "      <td>0.88521</td>\n",
              "      <td>0.66973</td>\n",
              "      <td>0.36503</td>\n",
              "      <td>0.34699</td>\n",
              "      <td>2.46531</td>\n",
              "      <td>2015</td>\n",
              "    </tr>\n",
              "    <tr>\n",
              "      <th>4</th>\n",
              "      <td>Canada</td>\n",
              "      <td>North America</td>\n",
              "      <td>5</td>\n",
              "      <td>7.427</td>\n",
              "      <td>0.03553</td>\n",
              "      <td>1.32629</td>\n",
              "      <td>1.32261</td>\n",
              "      <td>0.90563</td>\n",
              "      <td>0.63297</td>\n",
              "      <td>0.32957</td>\n",
              "      <td>0.45811</td>\n",
              "      <td>2.45176</td>\n",
              "      <td>2015</td>\n",
              "    </tr>\n",
              "  </tbody>\n",
              "</table>\n",
              "</div>"
            ],
            "text/plain": [
              "       Country          Region  ...  Dystopia Residual  Year\n",
              "0  Switzerland  Western Europe  ...            2.51738  2015\n",
              "1      Iceland  Western Europe  ...            2.70201  2015\n",
              "2      Denmark  Western Europe  ...            2.49204  2015\n",
              "3       Norway  Western Europe  ...            2.46531  2015\n",
              "4       Canada   North America  ...            2.45176  2015\n",
              "\n",
              "[5 rows x 13 columns]"
            ]
          },
          "metadata": {
            "tags": []
          },
          "execution_count": 130
        }
      ]
    },
    {
      "cell_type": "markdown",
      "metadata": {
        "id": "8CA5BRVuGJq2",
        "colab_type": "text"
      },
      "source": [
        "Looking at the dataset, there are a lot of different scores included such as Economy, Family Size, Health, Freedom, etc. The value in each column describes the extent to which the factor contributed to the overall happiness score. Ideally, this dataset will help us learn what makes countries the Happiest. Given that America prides itself on Capitalism. Let's check how Economy affects Happiness Scores. "
      ]
    },
    {
      "cell_type": "code",
      "metadata": {
        "id": "ioWdiYziE0F3",
        "colab_type": "code",
        "outputId": "f38e3142-f452-485e-e349-b81c92c47214",
        "colab": {
          "base_uri": "https://localhost:8080/",
          "height": 633
        }
      },
      "source": [
        "plt.figure(figsize=(10,10))\n",
        "sns.scatterplot('Economy (GDP per Capita)', 'Happiness Score', data=hp_2015, hue='Region')"
      ],
      "execution_count": 131,
      "outputs": [
        {
          "output_type": "execute_result",
          "data": {
            "text/plain": [
              "<matplotlib.axes._subplots.AxesSubplot at 0x7f5ffe9b5390>"
            ]
          },
          "metadata": {
            "tags": []
          },
          "execution_count": 131
        },
        {
          "output_type": "display_data",
          "data": {
            "image/png": "[encoded data removed]",
            "text/plain": [
              "<Figure size 720x720 with 1 Axes>"
            ]
          },
          "metadata": {
            "tags": []
          }
        }
      ]
    },
    {
      "cell_type": "markdown",
      "metadata": {
        "id": "TC3PVK7hGpM4",
        "colab_type": "text"
      },
      "source": [
        "What we see here is that as GDP rises, Happiness tends to rise as well, although we can see that there is a lot of variance, especially within the Sub Saharan Africa countries. \n",
        "\n",
        "It's also interesting to note that most of the Sub Saharan Africa countries have Happiness Scores of 5 or less, and most of the Western Europe countries are above 6. \n",
        "\n",
        "Let's run a correlation on all of the measurements and see how they correlate with Happiness Score."
      ]
    },
    {
      "cell_type": "code",
      "metadata": {
        "id": "PgYwQgfRGza0",
        "colab_type": "code",
        "outputId": "bbecb861-4d16-4932-c39a-a0eb662959c7",
        "colab": {
          "base_uri": "https://localhost:8080/",
          "height": 410
        }
      },
      "source": [
        "correlations = hp_2015.corr()\n",
        "correlations"
      ],
      "execution_count": 132,
      "outputs": [
        {
          "output_type": "execute_result",
          "data": {
            "text/html": [
              "<div>\n",
              "<style scoped>\n",
              "    .dataframe tbody tr th:only-of-type {\n",
              "        vertical-align: middle;\n",
              "    }\n",
              "\n",
              "    .dataframe tbody tr th {\n",
              "        vertical-align: top;\n",
              "    }\n",
              "\n",
              "    .dataframe thead th {\n",
              "        text-align: right;\n",
              "    }\n",
              "</style>\n",
              "<table border=\"1\" class=\"dataframe\">\n",
              "  <thead>\n",
              "    <tr style=\"text-align: right;\">\n",
              "      <th></th>\n",
              "      <th>Happiness Rank</th>\n",
              "      <th>Happiness Score</th>\n",
              "      <th>Standard Error</th>\n",
              "      <th>Economy (GDP per Capita)</th>\n",
              "      <th>Family</th>\n",
              "      <th>Health (Life Expectancy)</th>\n",
              "      <th>Freedom</th>\n",
              "      <th>Trust (Government Corruption)</th>\n",
              "      <th>Generosity</th>\n",
              "      <th>Dystopia Residual</th>\n",
              "    </tr>\n",
              "  </thead>\n",
              "  <tbody>\n",
              "    <tr>\n",
              "      <th>Happiness Rank</th>\n",
              "      <td>1.000000</td>\n",
              "      <td>-0.992105</td>\n",
              "      <td>0.158516</td>\n",
              "      <td>-0.785267</td>\n",
              "      <td>-0.733644</td>\n",
              "      <td>-0.735613</td>\n",
              "      <td>-0.556886</td>\n",
              "      <td>-0.372315</td>\n",
              "      <td>-0.160142</td>\n",
              "      <td>-0.521999</td>\n",
              "    </tr>\n",
              "    <tr>\n",
              "      <th>Happiness Score</th>\n",
              "      <td>-0.992105</td>\n",
              "      <td>1.000000</td>\n",
              "      <td>-0.177254</td>\n",
              "      <td>0.780966</td>\n",
              "      <td>0.740605</td>\n",
              "      <td>0.724200</td>\n",
              "      <td>0.568211</td>\n",
              "      <td>0.395199</td>\n",
              "      <td>0.180319</td>\n",
              "      <td>0.530474</td>\n",
              "    </tr>\n",
              "    <tr>\n",
              "      <th>Standard Error</th>\n",
              "      <td>0.158516</td>\n",
              "      <td>-0.177254</td>\n",
              "      <td>1.000000</td>\n",
              "      <td>-0.217651</td>\n",
              "      <td>-0.120728</td>\n",
              "      <td>-0.310287</td>\n",
              "      <td>-0.129773</td>\n",
              "      <td>-0.178325</td>\n",
              "      <td>-0.088439</td>\n",
              "      <td>0.083981</td>\n",
              "    </tr>\n",
              "    <tr>\n",
              "      <th>Economy (GDP per Capita)</th>\n",
              "      <td>-0.785267</td>\n",
              "      <td>0.780966</td>\n",
              "      <td>-0.217651</td>\n",
              "      <td>1.000000</td>\n",
              "      <td>0.645299</td>\n",
              "      <td>0.816478</td>\n",
              "      <td>0.370300</td>\n",
              "      <td>0.307885</td>\n",
              "      <td>-0.010465</td>\n",
              "      <td>0.040059</td>\n",
              "    </tr>\n",
              "    <tr>\n",
              "      <th>Family</th>\n",
              "      <td>-0.733644</td>\n",
              "      <td>0.740605</td>\n",
              "      <td>-0.120728</td>\n",
              "      <td>0.645299</td>\n",
              "      <td>1.000000</td>\n",
              "      <td>0.531104</td>\n",
              "      <td>0.441518</td>\n",
              "      <td>0.205605</td>\n",
              "      <td>0.087513</td>\n",
              "      <td>0.148117</td>\n",
              "    </tr>\n",
              "    <tr>\n",
              "      <th>Health (Life Expectancy)</th>\n",
              "      <td>-0.735613</td>\n",
              "      <td>0.724200</td>\n",
              "      <td>-0.310287</td>\n",
              "      <td>0.816478</td>\n",
              "      <td>0.531104</td>\n",
              "      <td>1.000000</td>\n",
              "      <td>0.360477</td>\n",
              "      <td>0.248335</td>\n",
              "      <td>0.108335</td>\n",
              "      <td>0.018979</td>\n",
              "    </tr>\n",
              "    <tr>\n",
              "      <th>Freedom</th>\n",
              "      <td>-0.556886</td>\n",
              "      <td>0.568211</td>\n",
              "      <td>-0.129773</td>\n",
              "      <td>0.370300</td>\n",
              "      <td>0.441518</td>\n",
              "      <td>0.360477</td>\n",
              "      <td>1.000000</td>\n",
              "      <td>0.493524</td>\n",
              "      <td>0.373916</td>\n",
              "      <td>0.062783</td>\n",
              "    </tr>\n",
              "    <tr>\n",
              "      <th>Trust (Government Corruption)</th>\n",
              "      <td>-0.372315</td>\n",
              "      <td>0.395199</td>\n",
              "      <td>-0.178325</td>\n",
              "      <td>0.307885</td>\n",
              "      <td>0.205605</td>\n",
              "      <td>0.248335</td>\n",
              "      <td>0.493524</td>\n",
              "      <td>1.000000</td>\n",
              "      <td>0.276123</td>\n",
              "      <td>-0.033105</td>\n",
              "    </tr>\n",
              "    <tr>\n",
              "      <th>Generosity</th>\n",
              "      <td>-0.160142</td>\n",
              "      <td>0.180319</td>\n",
              "      <td>-0.088439</td>\n",
              "      <td>-0.010465</td>\n",
              "      <td>0.087513</td>\n",
              "      <td>0.108335</td>\n",
              "      <td>0.373916</td>\n",
              "      <td>0.276123</td>\n",
              "      <td>1.000000</td>\n",
              "      <td>-0.101301</td>\n",
              "    </tr>\n",
              "    <tr>\n",
              "      <th>Dystopia Residual</th>\n",
              "      <td>-0.521999</td>\n",
              "      <td>0.530474</td>\n",
              "      <td>0.083981</td>\n",
              "      <td>0.040059</td>\n",
              "      <td>0.148117</td>\n",
              "      <td>0.018979</td>\n",
              "      <td>0.062783</td>\n",
              "      <td>-0.033105</td>\n",
              "      <td>-0.101301</td>\n",
              "      <td>1.000000</td>\n",
              "    </tr>\n",
              "  </tbody>\n",
              "</table>\n",
              "</div>"
            ],
            "text/plain": [
              "                               Happiness Rank  ...  Dystopia Residual\n",
              "Happiness Rank                       1.000000  ...          -0.521999\n",
              "Happiness Score                     -0.992105  ...           0.530474\n",
              "Standard Error                       0.158516  ...           0.083981\n",
              "Economy (GDP per Capita)            -0.785267  ...           0.040059\n",
              "Family                              -0.733644  ...           0.148117\n",
              "Health (Life Expectancy)            -0.735613  ...           0.018979\n",
              "Freedom                             -0.556886  ...           0.062783\n",
              "Trust (Government Corruption)       -0.372315  ...          -0.033105\n",
              "Generosity                          -0.160142  ...          -0.101301\n",
              "Dystopia Residual                   -0.521999  ...           1.000000\n",
              "\n",
              "[10 rows x 10 columns]"
            ]
          },
          "metadata": {
            "tags": []
          },
          "execution_count": 132
        }
      ]
    },
    {
      "cell_type": "markdown",
      "metadata": {
        "id": "SRQjZAdcINFR",
        "colab_type": "text"
      },
      "source": [
        "From the correlation matrix for 2015 Happiness Rankings, we can see that Economy, Family, and Health are positively correlated with the Happiness Score. Economy has the strongest correlation but not by much. \n",
        "\n",
        "This, however, explains the 2015 data. Let's check how the 2016-2019 data plays out as well. "
      ]
    },
    {
      "cell_type": "code",
      "metadata": {
        "id": "m6bpIq73Iv10",
        "colab_type": "code",
        "outputId": "2727f86c-b457-4aac-91e4-73a056016163",
        "colab": {
          "base_uri": "https://localhost:8080/",
          "height": 173
        }
      },
      "source": [
        "corr_2016 = hp_2016[['Happiness Score', 'Economy (GDP per Capita)', 'Health (Life Expectancy)', 'Freedom']].corr()\n",
        "corr_2016"
      ],
      "execution_count": 133,
      "outputs": [
        {
          "output_type": "execute_result",
          "data": {
            "text/html": [
              "<div>\n",
              "<style scoped>\n",
              "    .dataframe tbody tr th:only-of-type {\n",
              "        vertical-align: middle;\n",
              "    }\n",
              "\n",
              "    .dataframe tbody tr th {\n",
              "        vertical-align: top;\n",
              "    }\n",
              "\n",
              "    .dataframe thead th {\n",
              "        text-align: right;\n",
              "    }\n",
              "</style>\n",
              "<table border=\"1\" class=\"dataframe\">\n",
              "  <thead>\n",
              "    <tr style=\"text-align: right;\">\n",
              "      <th></th>\n",
              "      <th>Happiness Score</th>\n",
              "      <th>Economy (GDP per Capita)</th>\n",
              "      <th>Health (Life Expectancy)</th>\n",
              "      <th>Freedom</th>\n",
              "    </tr>\n",
              "  </thead>\n",
              "  <tbody>\n",
              "    <tr>\n",
              "      <th>Happiness Score</th>\n",
              "      <td>1.000000</td>\n",
              "      <td>0.790322</td>\n",
              "      <td>0.765384</td>\n",
              "      <td>0.566827</td>\n",
              "    </tr>\n",
              "    <tr>\n",
              "      <th>Economy (GDP per Capita)</th>\n",
              "      <td>0.790322</td>\n",
              "      <td>1.000000</td>\n",
              "      <td>0.837067</td>\n",
              "      <td>0.362283</td>\n",
              "    </tr>\n",
              "    <tr>\n",
              "      <th>Health (Life Expectancy)</th>\n",
              "      <td>0.765384</td>\n",
              "      <td>0.837067</td>\n",
              "      <td>1.000000</td>\n",
              "      <td>0.341199</td>\n",
              "    </tr>\n",
              "    <tr>\n",
              "      <th>Freedom</th>\n",
              "      <td>0.566827</td>\n",
              "      <td>0.362283</td>\n",
              "      <td>0.341199</td>\n",
              "      <td>1.000000</td>\n",
              "    </tr>\n",
              "  </tbody>\n",
              "</table>\n",
              "</div>"
            ],
            "text/plain": [
              "                          Happiness Score  ...   Freedom\n",
              "Happiness Score                  1.000000  ...  0.566827\n",
              "Economy (GDP per Capita)         0.790322  ...  0.362283\n",
              "Health (Life Expectancy)         0.765384  ...  0.341199\n",
              "Freedom                          0.566827  ...  1.000000\n",
              "\n",
              "[4 rows x 4 columns]"
            ]
          },
          "metadata": {
            "tags": []
          },
          "execution_count": 133
        }
      ]
    },
    {
      "cell_type": "code",
      "metadata": {
        "id": "pMrMbGQqB4qi",
        "colab_type": "code",
        "outputId": "45ff87d3-3fe2-4988-ba61-21003ac11a27",
        "colab": {
          "base_uri": "https://localhost:8080/",
          "height": 173
        }
      },
      "source": [
        "corr_2017 = hp_2017[['Happiness Score', 'Economy (GDP per Capita)', 'Health (Life Expectancy)', 'Freedom']].corr()\n",
        "corr_2017"
      ],
      "execution_count": 134,
      "outputs": [
        {
          "output_type": "execute_result",
          "data": {
            "text/html": [
              "<div>\n",
              "<style scoped>\n",
              "    .dataframe tbody tr th:only-of-type {\n",
              "        vertical-align: middle;\n",
              "    }\n",
              "\n",
              "    .dataframe tbody tr th {\n",
              "        vertical-align: top;\n",
              "    }\n",
              "\n",
              "    .dataframe thead th {\n",
              "        text-align: right;\n",
              "    }\n",
              "</style>\n",
              "<table border=\"1\" class=\"dataframe\">\n",
              "  <thead>\n",
              "    <tr style=\"text-align: right;\">\n",
              "      <th></th>\n",
              "      <th>Happiness Score</th>\n",
              "      <th>Economy (GDP per Capita)</th>\n",
              "      <th>Health (Life Expectancy)</th>\n",
              "      <th>Freedom</th>\n",
              "    </tr>\n",
              "  </thead>\n",
              "  <tbody>\n",
              "    <tr>\n",
              "      <th>Happiness Score</th>\n",
              "      <td>1.000000</td>\n",
              "      <td>0.812469</td>\n",
              "      <td>0.781951</td>\n",
              "      <td>0.570137</td>\n",
              "    </tr>\n",
              "    <tr>\n",
              "      <th>Economy (GDP per Capita)</th>\n",
              "      <td>0.812469</td>\n",
              "      <td>1.000000</td>\n",
              "      <td>0.843077</td>\n",
              "      <td>0.369873</td>\n",
              "    </tr>\n",
              "    <tr>\n",
              "      <th>Health (Life Expectancy)</th>\n",
              "      <td>0.781951</td>\n",
              "      <td>0.843077</td>\n",
              "      <td>1.000000</td>\n",
              "      <td>0.349827</td>\n",
              "    </tr>\n",
              "    <tr>\n",
              "      <th>Freedom</th>\n",
              "      <td>0.570137</td>\n",
              "      <td>0.369873</td>\n",
              "      <td>0.349827</td>\n",
              "      <td>1.000000</td>\n",
              "    </tr>\n",
              "  </tbody>\n",
              "</table>\n",
              "</div>"
            ],
            "text/plain": [
              "                          Happiness Score  ...   Freedom\n",
              "Happiness Score                  1.000000  ...  0.570137\n",
              "Economy (GDP per Capita)         0.812469  ...  0.369873\n",
              "Health (Life Expectancy)         0.781951  ...  0.349827\n",
              "Freedom                          0.570137  ...  1.000000\n",
              "\n",
              "[4 rows x 4 columns]"
            ]
          },
          "metadata": {
            "tags": []
          },
          "execution_count": 134
        }
      ]
    },
    {
      "cell_type": "code",
      "metadata": {
        "id": "U8uFg2H6B6vk",
        "colab_type": "code",
        "outputId": "74d2945e-d908-4623-99cc-78a6fe0b1bab",
        "colab": {
          "base_uri": "https://localhost:8080/",
          "height": 173
        }
      },
      "source": [
        "corr_2018 = hp_2018[['Happiness Score', 'Economy (GDP per Capita)', 'Health (Life Expectancy)', 'Freedom']].corr()\n",
        "corr_2018"
      ],
      "execution_count": 135,
      "outputs": [
        {
          "output_type": "execute_result",
          "data": {
            "text/html": [
              "<div>\n",
              "<style scoped>\n",
              "    .dataframe tbody tr th:only-of-type {\n",
              "        vertical-align: middle;\n",
              "    }\n",
              "\n",
              "    .dataframe tbody tr th {\n",
              "        vertical-align: top;\n",
              "    }\n",
              "\n",
              "    .dataframe thead th {\n",
              "        text-align: right;\n",
              "    }\n",
              "</style>\n",
              "<table border=\"1\" class=\"dataframe\">\n",
              "  <thead>\n",
              "    <tr style=\"text-align: right;\">\n",
              "      <th></th>\n",
              "      <th>Happiness Score</th>\n",
              "      <th>Economy (GDP per Capita)</th>\n",
              "      <th>Health (Life Expectancy)</th>\n",
              "      <th>Freedom</th>\n",
              "    </tr>\n",
              "  </thead>\n",
              "  <tbody>\n",
              "    <tr>\n",
              "      <th>Happiness Score</th>\n",
              "      <td>1.000000</td>\n",
              "      <td>0.802124</td>\n",
              "      <td>0.775814</td>\n",
              "      <td>0.544280</td>\n",
              "    </tr>\n",
              "    <tr>\n",
              "      <th>Economy (GDP per Capita)</th>\n",
              "      <td>0.802124</td>\n",
              "      <td>1.000000</td>\n",
              "      <td>0.844273</td>\n",
              "      <td>0.332275</td>\n",
              "    </tr>\n",
              "    <tr>\n",
              "      <th>Health (Life Expectancy)</th>\n",
              "      <td>0.775814</td>\n",
              "      <td>0.844273</td>\n",
              "      <td>1.000000</td>\n",
              "      <td>0.355475</td>\n",
              "    </tr>\n",
              "    <tr>\n",
              "      <th>Freedom</th>\n",
              "      <td>0.544280</td>\n",
              "      <td>0.332275</td>\n",
              "      <td>0.355475</td>\n",
              "      <td>1.000000</td>\n",
              "    </tr>\n",
              "  </tbody>\n",
              "</table>\n",
              "</div>"
            ],
            "text/plain": [
              "                          Happiness Score  ...   Freedom\n",
              "Happiness Score                  1.000000  ...  0.544280\n",
              "Economy (GDP per Capita)         0.802124  ...  0.332275\n",
              "Health (Life Expectancy)         0.775814  ...  0.355475\n",
              "Freedom                          0.544280  ...  1.000000\n",
              "\n",
              "[4 rows x 4 columns]"
            ]
          },
          "metadata": {
            "tags": []
          },
          "execution_count": 135
        }
      ]
    },
    {
      "cell_type": "code",
      "metadata": {
        "id": "laR6SmMsB7TD",
        "colab_type": "code",
        "outputId": "82f964b8-527d-4387-a76b-ac840611ee9a",
        "colab": {
          "base_uri": "https://localhost:8080/",
          "height": 173
        }
      },
      "source": [
        "corr_2019 = hp_2019[['Happiness Score', 'Economy (GDP per Capita)', 'Health (Life Expectancy)', 'Freedom']].corr()\n",
        "corr_2019"
      ],
      "execution_count": 136,
      "outputs": [
        {
          "output_type": "execute_result",
          "data": {
            "text/html": [
              "<div>\n",
              "<style scoped>\n",
              "    .dataframe tbody tr th:only-of-type {\n",
              "        vertical-align: middle;\n",
              "    }\n",
              "\n",
              "    .dataframe tbody tr th {\n",
              "        vertical-align: top;\n",
              "    }\n",
              "\n",
              "    .dataframe thead th {\n",
              "        text-align: right;\n",
              "    }\n",
              "</style>\n",
              "<table border=\"1\" class=\"dataframe\">\n",
              "  <thead>\n",
              "    <tr style=\"text-align: right;\">\n",
              "      <th></th>\n",
              "      <th>Happiness Score</th>\n",
              "      <th>Economy (GDP per Capita)</th>\n",
              "      <th>Health (Life Expectancy)</th>\n",
              "      <th>Freedom</th>\n",
              "    </tr>\n",
              "  </thead>\n",
              "  <tbody>\n",
              "    <tr>\n",
              "      <th>Happiness Score</th>\n",
              "      <td>1.000000</td>\n",
              "      <td>0.793883</td>\n",
              "      <td>0.779883</td>\n",
              "      <td>0.566742</td>\n",
              "    </tr>\n",
              "    <tr>\n",
              "      <th>Economy (GDP per Capita)</th>\n",
              "      <td>0.793883</td>\n",
              "      <td>1.000000</td>\n",
              "      <td>0.835462</td>\n",
              "      <td>0.379079</td>\n",
              "    </tr>\n",
              "    <tr>\n",
              "      <th>Health (Life Expectancy)</th>\n",
              "      <td>0.779883</td>\n",
              "      <td>0.835462</td>\n",
              "      <td>1.000000</td>\n",
              "      <td>0.390395</td>\n",
              "    </tr>\n",
              "    <tr>\n",
              "      <th>Freedom</th>\n",
              "      <td>0.566742</td>\n",
              "      <td>0.379079</td>\n",
              "      <td>0.390395</td>\n",
              "      <td>1.000000</td>\n",
              "    </tr>\n",
              "  </tbody>\n",
              "</table>\n",
              "</div>"
            ],
            "text/plain": [
              "                          Happiness Score  ...   Freedom\n",
              "Happiness Score                  1.000000  ...  0.566742\n",
              "Economy (GDP per Capita)         0.793883  ...  0.379079\n",
              "Health (Life Expectancy)         0.779883  ...  0.390395\n",
              "Freedom                          0.566742  ...  1.000000\n",
              "\n",
              "[4 rows x 4 columns]"
            ]
          },
          "metadata": {
            "tags": []
          },
          "execution_count": 136
        }
      ]
    },
    {
      "cell_type": "markdown",
      "metadata": {
        "id": "yhRrDRUYCjLv",
        "colab_type": "text"
      },
      "source": [
        "So what we find here is that Economy, Family, and Health do generally correspond about the same regardless of year, albeit not all exactly equal, they don't seem to have significant changes. To see how strongly this holds year to year, let's take the United States and see how their Happiness score has changed in relation to Economy, Family, and Health scores. \n",
        "\n",
        "*Note: I only included Economy, Family, and Health for clarity. There were no other correlations with the same strength of correlation.  "
      ]
    },
    {
      "cell_type": "code",
      "metadata": {
        "id": "SvYpnCMPC7yK",
        "colab_type": "code",
        "outputId": "d51a718a-a708-420e-f738-7e7ecb854a9f",
        "colab": {
          "base_uri": "https://localhost:8080/",
          "height": 204
        }
      },
      "source": [
        "def year_over_year(measures, dfs, country='United States'):\n",
        "  country_over_years = pd.DataFrame()\n",
        "  for df in dfs:\n",
        "    temp = df[df['Country'] == country]\n",
        "    temp = temp[measures]\n",
        "    country_over_years = pd.concat((country_over_years, temp))\n",
        "  return country_over_years\n",
        "\n",
        "usa = year_over_year(['Year', 'Happiness Score', 'Economy (GDP per Capita)', 'Family', 'Health (Life Expectancy)'], [hp_2015, hp_2016, hp_2017, hp_2018, hp_2019])\n",
        "usa"
      ],
      "execution_count": 137,
      "outputs": [
        {
          "output_type": "execute_result",
          "data": {
            "text/html": [
              "<div>\n",
              "<style scoped>\n",
              "    .dataframe tbody tr th:only-of-type {\n",
              "        vertical-align: middle;\n",
              "    }\n",
              "\n",
              "    .dataframe tbody tr th {\n",
              "        vertical-align: top;\n",
              "    }\n",
              "\n",
              "    .dataframe thead th {\n",
              "        text-align: right;\n",
              "    }\n",
              "</style>\n",
              "<table border=\"1\" class=\"dataframe\">\n",
              "  <thead>\n",
              "    <tr style=\"text-align: right;\">\n",
              "      <th></th>\n",
              "      <th>Year</th>\n",
              "      <th>Happiness Score</th>\n",
              "      <th>Economy (GDP per Capita)</th>\n",
              "      <th>Family</th>\n",
              "      <th>Health (Life Expectancy)</th>\n",
              "    </tr>\n",
              "  </thead>\n",
              "  <tbody>\n",
              "    <tr>\n",
              "      <th>14</th>\n",
              "      <td>2015</td>\n",
              "      <td>7.119</td>\n",
              "      <td>1.394510</td>\n",
              "      <td>1.247110</td>\n",
              "      <td>0.861790</td>\n",
              "    </tr>\n",
              "    <tr>\n",
              "      <th>12</th>\n",
              "      <td>2016</td>\n",
              "      <td>7.104</td>\n",
              "      <td>1.507960</td>\n",
              "      <td>1.047820</td>\n",
              "      <td>0.779000</td>\n",
              "    </tr>\n",
              "    <tr>\n",
              "      <th>13</th>\n",
              "      <td>2017</td>\n",
              "      <td>6.993</td>\n",
              "      <td>1.546259</td>\n",
              "      <td>1.419921</td>\n",
              "      <td>0.774287</td>\n",
              "    </tr>\n",
              "    <tr>\n",
              "      <th>17</th>\n",
              "      <td>2018</td>\n",
              "      <td>6.886</td>\n",
              "      <td>1.398000</td>\n",
              "      <td>1.471000</td>\n",
              "      <td>0.819000</td>\n",
              "    </tr>\n",
              "    <tr>\n",
              "      <th>18</th>\n",
              "      <td>2019</td>\n",
              "      <td>6.892</td>\n",
              "      <td>1.433000</td>\n",
              "      <td>1.457000</td>\n",
              "      <td>0.874000</td>\n",
              "    </tr>\n",
              "  </tbody>\n",
              "</table>\n",
              "</div>"
            ],
            "text/plain": [
              "    Year  Happiness Score  ...    Family  Health (Life Expectancy)\n",
              "14  2015            7.119  ...  1.247110                  0.861790\n",
              "12  2016            7.104  ...  1.047820                  0.779000\n",
              "13  2017            6.993  ...  1.419921                  0.774287\n",
              "17  2018            6.886  ...  1.471000                  0.819000\n",
              "18  2019            6.892  ...  1.457000                  0.874000\n",
              "\n",
              "[5 rows x 5 columns]"
            ]
          },
          "metadata": {
            "tags": []
          },
          "execution_count": 137
        }
      ]
    },
    {
      "cell_type": "code",
      "metadata": {
        "id": "ObgtxRUjJs4a",
        "colab_type": "code",
        "outputId": "844619ea-7f2a-4709-afe9-d478dcb872ed",
        "colab": {
          "base_uri": "https://localhost:8080/",
          "height": 204
        }
      },
      "source": [
        "usa['Happiness Change'] = usa['Happiness Score'].apply(lambda x: x - 6)\n",
        "usa"
      ],
      "execution_count": 138,
      "outputs": [
        {
          "output_type": "execute_result",
          "data": {
            "text/html": [
              "<div>\n",
              "<style scoped>\n",
              "    .dataframe tbody tr th:only-of-type {\n",
              "        vertical-align: middle;\n",
              "    }\n",
              "\n",
              "    .dataframe tbody tr th {\n",
              "        vertical-align: top;\n",
              "    }\n",
              "\n",
              "    .dataframe thead th {\n",
              "        text-align: right;\n",
              "    }\n",
              "</style>\n",
              "<table border=\"1\" class=\"dataframe\">\n",
              "  <thead>\n",
              "    <tr style=\"text-align: right;\">\n",
              "      <th></th>\n",
              "      <th>Year</th>\n",
              "      <th>Happiness Score</th>\n",
              "      <th>Economy (GDP per Capita)</th>\n",
              "      <th>Family</th>\n",
              "      <th>Health (Life Expectancy)</th>\n",
              "      <th>Happiness Change</th>\n",
              "    </tr>\n",
              "  </thead>\n",
              "  <tbody>\n",
              "    <tr>\n",
              "      <th>14</th>\n",
              "      <td>2015</td>\n",
              "      <td>7.119</td>\n",
              "      <td>1.394510</td>\n",
              "      <td>1.247110</td>\n",
              "      <td>0.861790</td>\n",
              "      <td>1.119</td>\n",
              "    </tr>\n",
              "    <tr>\n",
              "      <th>12</th>\n",
              "      <td>2016</td>\n",
              "      <td>7.104</td>\n",
              "      <td>1.507960</td>\n",
              "      <td>1.047820</td>\n",
              "      <td>0.779000</td>\n",
              "      <td>1.104</td>\n",
              "    </tr>\n",
              "    <tr>\n",
              "      <th>13</th>\n",
              "      <td>2017</td>\n",
              "      <td>6.993</td>\n",
              "      <td>1.546259</td>\n",
              "      <td>1.419921</td>\n",
              "      <td>0.774287</td>\n",
              "      <td>0.993</td>\n",
              "    </tr>\n",
              "    <tr>\n",
              "      <th>17</th>\n",
              "      <td>2018</td>\n",
              "      <td>6.886</td>\n",
              "      <td>1.398000</td>\n",
              "      <td>1.471000</td>\n",
              "      <td>0.819000</td>\n",
              "      <td>0.886</td>\n",
              "    </tr>\n",
              "    <tr>\n",
              "      <th>18</th>\n",
              "      <td>2019</td>\n",
              "      <td>6.892</td>\n",
              "      <td>1.433000</td>\n",
              "      <td>1.457000</td>\n",
              "      <td>0.874000</td>\n",
              "      <td>0.892</td>\n",
              "    </tr>\n",
              "  </tbody>\n",
              "</table>\n",
              "</div>"
            ],
            "text/plain": [
              "    Year  Happiness Score  ...  Health (Life Expectancy)  Happiness Change\n",
              "14  2015            7.119  ...                  0.861790             1.119\n",
              "12  2016            7.104  ...                  0.779000             1.104\n",
              "13  2017            6.993  ...                  0.774287             0.993\n",
              "17  2018            6.886  ...                  0.819000             0.886\n",
              "18  2019            6.892  ...                  0.874000             0.892\n",
              "\n",
              "[5 rows x 6 columns]"
            ]
          },
          "metadata": {
            "tags": []
          },
          "execution_count": 138
        }
      ]
    },
    {
      "cell_type": "markdown",
      "metadata": {
        "id": "f85RHGE6M4YG",
        "colab_type": "text"
      },
      "source": [
        "To get Happiness Score on the same scale as the rest of our scores, we just subtract 6 so that the scores are centered around 1 now. "
      ]
    },
    {
      "cell_type": "code",
      "metadata": {
        "id": "8UHmWAnyIZb1",
        "colab_type": "code",
        "outputId": "6fbc7541-bd80-42ab-b6e6-451c0df69b00",
        "colab": {
          "base_uri": "https://localhost:8080/",
          "height": 654
        }
      },
      "source": [
        "plt.figure(figsize=(10,10))\n",
        "df = usa\n",
        "\n",
        "sns.lineplot(x='Year',y='Happiness Change', data=df, color='black', label='Happiness')\n",
        "sns.lineplot(x='Year',y='Economy (GDP per Capita)', data=df, color='blue', label='Economy')\n",
        "sns.lineplot(x='Year',y='Family', data=df, color='red', label='Family')\n",
        "sns.lineplot(x='Year',y='Health (Life Expectancy)', data=df, color='green', label='Health')\n",
        "plt.legend()\n",
        "plt.xlabel('Year')\n",
        "plt.ylabel('Score')\n",
        "plt.title('US Happiness Score Year over Year')"
      ],
      "execution_count": 139,
      "outputs": [
        {
          "output_type": "execute_result",
          "data": {
            "text/plain": [
              "Text(0.5, 1.0, 'US Happiness Score Year over Year')"
            ]
          },
          "metadata": {
            "tags": []
          },
          "execution_count": 139
        },
        {
          "output_type": "display_data",
          "data": {
            "image/png": "[encoded data removed]",
            "text/plain": [
              "<Figure size 720x720 with 1 Axes>"
            ]
          },
          "metadata": {
            "tags": []
          }
        }
      ]
    },
    {
      "cell_type": "markdown",
      "metadata": {
        "id": "EQmfZEXVNHCN",
        "colab_type": "text"
      },
      "source": [
        "Interestingly enough, happiness has been declining over the years in the United States all while the other measures have either been increasing, or staying steady. Let's see if this holds true with other countries. I'll choose Finalnd since they seem to stay atop the rankings year to year and have actually been rising in their Happiness Rank"
      ]
    },
    {
      "cell_type": "code",
      "metadata": {
        "id": "2PTIZh9fNwJP",
        "colab_type": "code",
        "outputId": "5e03717b-8620-44bd-96d5-3f25ffb9f434",
        "colab": {
          "base_uri": "https://localhost:8080/",
          "height": 204
        }
      },
      "source": [
        "fin = year_over_year(['Year', 'Happiness Score', 'Economy (GDP per Capita)', 'Family', 'Health (Life Expectancy)'], [hp_2015, hp_2016, hp_2017, hp_2018, hp_2019], country='Finland')\n",
        "fin['Happiness Change'] = fin['Happiness Score'].apply(lambda x: x - 6)\n",
        "fin"
      ],
      "execution_count": 141,
      "outputs": [
        {
          "output_type": "execute_result",
          "data": {
            "text/html": [
              "<div>\n",
              "<style scoped>\n",
              "    .dataframe tbody tr th:only-of-type {\n",
              "        vertical-align: middle;\n",
              "    }\n",
              "\n",
              "    .dataframe tbody tr th {\n",
              "        vertical-align: top;\n",
              "    }\n",
              "\n",
              "    .dataframe thead th {\n",
              "        text-align: right;\n",
              "    }\n",
              "</style>\n",
              "<table border=\"1\" class=\"dataframe\">\n",
              "  <thead>\n",
              "    <tr style=\"text-align: right;\">\n",
              "      <th></th>\n",
              "      <th>Year</th>\n",
              "      <th>Happiness Score</th>\n",
              "      <th>Economy (GDP per Capita)</th>\n",
              "      <th>Family</th>\n",
              "      <th>Health (Life Expectancy)</th>\n",
              "      <th>Happiness Change</th>\n",
              "    </tr>\n",
              "  </thead>\n",
              "  <tbody>\n",
              "    <tr>\n",
              "      <th>5</th>\n",
              "      <td>2015</td>\n",
              "      <td>7.406</td>\n",
              "      <td>1.290250</td>\n",
              "      <td>1.318260</td>\n",
              "      <td>0.889110</td>\n",
              "      <td>1.406</td>\n",
              "    </tr>\n",
              "    <tr>\n",
              "      <th>4</th>\n",
              "      <td>2016</td>\n",
              "      <td>7.413</td>\n",
              "      <td>1.405980</td>\n",
              "      <td>1.134640</td>\n",
              "      <td>0.810910</td>\n",
              "      <td>1.413</td>\n",
              "    </tr>\n",
              "    <tr>\n",
              "      <th>4</th>\n",
              "      <td>2017</td>\n",
              "      <td>7.469</td>\n",
              "      <td>1.443572</td>\n",
              "      <td>1.540247</td>\n",
              "      <td>0.809158</td>\n",
              "      <td>1.469</td>\n",
              "    </tr>\n",
              "    <tr>\n",
              "      <th>0</th>\n",
              "      <td>2018</td>\n",
              "      <td>7.632</td>\n",
              "      <td>1.305000</td>\n",
              "      <td>1.592000</td>\n",
              "      <td>0.874000</td>\n",
              "      <td>1.632</td>\n",
              "    </tr>\n",
              "    <tr>\n",
              "      <th>0</th>\n",
              "      <td>2019</td>\n",
              "      <td>7.769</td>\n",
              "      <td>1.340000</td>\n",
              "      <td>1.587000</td>\n",
              "      <td>0.986000</td>\n",
              "      <td>1.769</td>\n",
              "    </tr>\n",
              "  </tbody>\n",
              "</table>\n",
              "</div>"
            ],
            "text/plain": [
              "   Year  Happiness Score  ...  Health (Life Expectancy)  Happiness Change\n",
              "5  2015            7.406  ...                  0.889110             1.406\n",
              "4  2016            7.413  ...                  0.810910             1.413\n",
              "4  2017            7.469  ...                  0.809158             1.469\n",
              "0  2018            7.632  ...                  0.874000             1.632\n",
              "0  2019            7.769  ...                  0.986000             1.769\n",
              "\n",
              "[5 rows x 6 columns]"
            ]
          },
          "metadata": {
            "tags": []
          },
          "execution_count": 141
        }
      ]
    },
    {
      "cell_type": "code",
      "metadata": {
        "id": "nFOPGrBeN8kA",
        "colab_type": "code",
        "outputId": "7e76191a-1e1e-484b-e06a-4a83977b0cbf",
        "colab": {
          "base_uri": "https://localhost:8080/",
          "height": 654
        }
      },
      "source": [
        "plt.figure(figsize=(10,10))\n",
        "df = fin\n",
        "\n",
        "sns.lineplot(x='Year',y='Happiness Change', data=df, color='black', label='Happiness')\n",
        "sns.lineplot(x='Year',y='Economy (GDP per Capita)', data=df, color='blue', label='Economy')\n",
        "sns.lineplot(x='Year',y='Family', data=df, color='red', label='Family')\n",
        "sns.lineplot(x='Year',y='Health (Life Expectancy)', data=df, color='green', label='Health')\n",
        "plt.legend()\n",
        "plt.xlabel('Year')\n",
        "plt.ylabel('Score')\n",
        "plt.title('Finland Happiness Score Year over Year')"
      ],
      "execution_count": 142,
      "outputs": [
        {
          "output_type": "execute_result",
          "data": {
            "text/plain": [
              "Text(0.5, 1.0, 'Finland Happiness Score Year over Year')"
            ]
          },
          "metadata": {
            "tags": []
          },
          "execution_count": 142
        },
        {
          "output_type": "display_data",
          "data": {
            "image/png": "[encoded data removed]",
            "text/plain": [
              "<Figure size 720x720 with 1 Axes>"
            ]
          },
          "metadata": {
            "tags": []
          }
        }
      ]
    },
    {
      "cell_type": "markdown",
      "metadata": {
        "id": "4uklE1W2OGZk",
        "colab_type": "text"
      },
      "source": [
        "We see similar changes with the three measures for Finland. A convex curve for Health, an increase and plateau for Family, and a slight late increase in Economy, but their Happiness Ranking is through the roof! What gives?\n",
        "\n",
        "Let's check the correlation table for USA and Finland. "
      ]
    },
    {
      "cell_type": "code",
      "metadata": {
        "id": "AMvGazM_zL00",
        "colab_type": "code",
        "outputId": "a8d1afd6-77b0-4c69-aebb-44a0808d0d06",
        "colab": {
          "base_uri": "https://localhost:8080/",
          "height": 204
        }
      },
      "source": [
        "usa_corr = usa.corr()\n",
        "usa_corr"
      ],
      "execution_count": 143,
      "outputs": [
        {
          "output_type": "execute_result",
          "data": {
            "text/html": [
              "<div>\n",
              "<style scoped>\n",
              "    .dataframe tbody tr th:only-of-type {\n",
              "        vertical-align: middle;\n",
              "    }\n",
              "\n",
              "    .dataframe tbody tr th {\n",
              "        vertical-align: top;\n",
              "    }\n",
              "\n",
              "    .dataframe thead th {\n",
              "        text-align: right;\n",
              "    }\n",
              "</style>\n",
              "<table border=\"1\" class=\"dataframe\">\n",
              "  <thead>\n",
              "    <tr style=\"text-align: right;\">\n",
              "      <th></th>\n",
              "      <th>Happiness Score</th>\n",
              "      <th>Economy (GDP per Capita)</th>\n",
              "      <th>Family</th>\n",
              "      <th>Health (Life Expectancy)</th>\n",
              "      <th>Happiness Change</th>\n",
              "    </tr>\n",
              "  </thead>\n",
              "  <tbody>\n",
              "    <tr>\n",
              "      <th>Happiness Score</th>\n",
              "      <td>1.000000</td>\n",
              "      <td>0.215951</td>\n",
              "      <td>-0.864616</td>\n",
              "      <td>-0.228777</td>\n",
              "      <td>1.000000</td>\n",
              "    </tr>\n",
              "    <tr>\n",
              "      <th>Economy (GDP per Capita)</th>\n",
              "      <td>0.215951</td>\n",
              "      <td>1.000000</td>\n",
              "      <td>-0.255164</td>\n",
              "      <td>-0.801508</td>\n",
              "      <td>0.215951</td>\n",
              "    </tr>\n",
              "    <tr>\n",
              "      <th>Family</th>\n",
              "      <td>-0.864616</td>\n",
              "      <td>-0.255164</td>\n",
              "      <td>1.000000</td>\n",
              "      <td>0.323375</td>\n",
              "      <td>-0.864616</td>\n",
              "    </tr>\n",
              "    <tr>\n",
              "      <th>Health (Life Expectancy)</th>\n",
              "      <td>-0.228777</td>\n",
              "      <td>-0.801508</td>\n",
              "      <td>0.323375</td>\n",
              "      <td>1.000000</td>\n",
              "      <td>-0.228777</td>\n",
              "    </tr>\n",
              "    <tr>\n",
              "      <th>Happiness Change</th>\n",
              "      <td>1.000000</td>\n",
              "      <td>0.215951</td>\n",
              "      <td>-0.864616</td>\n",
              "      <td>-0.228777</td>\n",
              "      <td>1.000000</td>\n",
              "    </tr>\n",
              "  </tbody>\n",
              "</table>\n",
              "</div>"
            ],
            "text/plain": [
              "                          Happiness Score  ...  Happiness Change\n",
              "Happiness Score                  1.000000  ...          1.000000\n",
              "Economy (GDP per Capita)         0.215951  ...          0.215951\n",
              "Family                          -0.864616  ...         -0.864616\n",
              "Health (Life Expectancy)        -0.228777  ...         -0.228777\n",
              "Happiness Change                 1.000000  ...          1.000000\n",
              "\n",
              "[5 rows x 5 columns]"
            ]
          },
          "metadata": {
            "tags": []
          },
          "execution_count": 143
        }
      ]
    },
    {
      "cell_type": "code",
      "metadata": {
        "id": "9C4KxTs2zhcU",
        "colab_type": "code",
        "outputId": "0aee6dfb-84ab-4c68-de9b-06ebe91827fd",
        "colab": {
          "base_uri": "https://localhost:8080/",
          "height": 204
        }
      },
      "source": [
        "fin_corr = fin.corr()\n",
        "fin_corr"
      ],
      "execution_count": 144,
      "outputs": [
        {
          "output_type": "execute_result",
          "data": {
            "text/html": [
              "<div>\n",
              "<style scoped>\n",
              "    .dataframe tbody tr th:only-of-type {\n",
              "        vertical-align: middle;\n",
              "    }\n",
              "\n",
              "    .dataframe tbody tr th {\n",
              "        vertical-align: top;\n",
              "    }\n",
              "\n",
              "    .dataframe thead th {\n",
              "        text-align: right;\n",
              "    }\n",
              "</style>\n",
              "<table border=\"1\" class=\"dataframe\">\n",
              "  <thead>\n",
              "    <tr style=\"text-align: right;\">\n",
              "      <th></th>\n",
              "      <th>Happiness Score</th>\n",
              "      <th>Economy (GDP per Capita)</th>\n",
              "      <th>Family</th>\n",
              "      <th>Health (Life Expectancy)</th>\n",
              "      <th>Happiness Change</th>\n",
              "    </tr>\n",
              "  </thead>\n",
              "  <tbody>\n",
              "    <tr>\n",
              "      <th>Happiness Score</th>\n",
              "      <td>1.000000</td>\n",
              "      <td>-0.290548</td>\n",
              "      <td>0.749227</td>\n",
              "      <td>0.791554</td>\n",
              "      <td>1.000000</td>\n",
              "    </tr>\n",
              "    <tr>\n",
              "      <th>Economy (GDP per Capita)</th>\n",
              "      <td>-0.290548</td>\n",
              "      <td>1.000000</td>\n",
              "      <td>-0.161086</td>\n",
              "      <td>-0.609326</td>\n",
              "      <td>-0.290548</td>\n",
              "    </tr>\n",
              "    <tr>\n",
              "      <th>Family</th>\n",
              "      <td>0.749227</td>\n",
              "      <td>-0.161086</td>\n",
              "      <td>1.000000</td>\n",
              "      <td>0.469017</td>\n",
              "      <td>0.749227</td>\n",
              "    </tr>\n",
              "    <tr>\n",
              "      <th>Health (Life Expectancy)</th>\n",
              "      <td>0.791554</td>\n",
              "      <td>-0.609326</td>\n",
              "      <td>0.469017</td>\n",
              "      <td>1.000000</td>\n",
              "      <td>0.791554</td>\n",
              "    </tr>\n",
              "    <tr>\n",
              "      <th>Happiness Change</th>\n",
              "      <td>1.000000</td>\n",
              "      <td>-0.290548</td>\n",
              "      <td>0.749227</td>\n",
              "      <td>0.791554</td>\n",
              "      <td>1.000000</td>\n",
              "    </tr>\n",
              "  </tbody>\n",
              "</table>\n",
              "</div>"
            ],
            "text/plain": [
              "                          Happiness Score  ...  Happiness Change\n",
              "Happiness Score                  1.000000  ...          1.000000\n",
              "Economy (GDP per Capita)        -0.290548  ...         -0.290548\n",
              "Family                           0.749227  ...          0.749227\n",
              "Health (Life Expectancy)         0.791554  ...          0.791554\n",
              "Happiness Change                 1.000000  ...          1.000000\n",
              "\n",
              "[5 rows x 5 columns]"
            ]
          },
          "metadata": {
            "tags": []
          },
          "execution_count": 144
        }
      ]
    },
    {
      "cell_type": "markdown",
      "metadata": {
        "id": "4kRPsW-t0LY-",
        "colab_type": "text"
      },
      "source": [
        "What we see here is that while the overall rankings had strong correlations involving Economy, Family, and Health, they differ on an individual scale, and in some cases (like the US), they differ a great amount. Let's see if there were other factors for the United States that actually correlated strongly with their changes in Happiness Score. "
      ]
    },
    {
      "cell_type": "code",
      "metadata": {
        "id": "gEo43equ4-08",
        "colab_type": "code",
        "outputId": "e82b6edb-04f2-4cf3-93e9-7f8788ef972a",
        "colab": {
          "base_uri": "https://localhost:8080/",
          "height": 266
        }
      },
      "source": [
        "usa_2 = year_over_year(['Year', 'Happiness Score', 'Economy (GDP per Capita)', 'Family', 'Health (Life Expectancy)', 'Freedom', 'Trust (Government Corruption)',\n",
        "       'Generosity'], [hp_2015, hp_2016, hp_2017, hp_2018, hp_2019])\n",
        "usa_2_corr = usa_2.corr()\n",
        "usa_2_corr"
      ],
      "execution_count": 156,
      "outputs": [
        {
          "output_type": "execute_result",
          "data": {
            "text/html": [
              "<div>\n",
              "<style scoped>\n",
              "    .dataframe tbody tr th:only-of-type {\n",
              "        vertical-align: middle;\n",
              "    }\n",
              "\n",
              "    .dataframe tbody tr th {\n",
              "        vertical-align: top;\n",
              "    }\n",
              "\n",
              "    .dataframe thead th {\n",
              "        text-align: right;\n",
              "    }\n",
              "</style>\n",
              "<table border=\"1\" class=\"dataframe\">\n",
              "  <thead>\n",
              "    <tr style=\"text-align: right;\">\n",
              "      <th></th>\n",
              "      <th>Happiness Score</th>\n",
              "      <th>Economy (GDP per Capita)</th>\n",
              "      <th>Family</th>\n",
              "      <th>Health (Life Expectancy)</th>\n",
              "      <th>Freedom</th>\n",
              "      <th>Trust (Government Corruption)</th>\n",
              "      <th>Generosity</th>\n",
              "    </tr>\n",
              "  </thead>\n",
              "  <tbody>\n",
              "    <tr>\n",
              "      <th>Happiness Score</th>\n",
              "      <td>1.000000</td>\n",
              "      <td>0.215951</td>\n",
              "      <td>-0.864616</td>\n",
              "      <td>-0.228777</td>\n",
              "      <td>0.175874</td>\n",
              "      <td>0.935903</td>\n",
              "      <td>0.926392</td>\n",
              "    </tr>\n",
              "    <tr>\n",
              "      <th>Economy (GDP per Capita)</th>\n",
              "      <td>0.215951</td>\n",
              "      <td>1.000000</td>\n",
              "      <td>-0.255164</td>\n",
              "      <td>-0.801508</td>\n",
              "      <td>-0.446964</td>\n",
              "      <td>-0.122639</td>\n",
              "      <td>0.510947</td>\n",
              "    </tr>\n",
              "    <tr>\n",
              "      <th>Family</th>\n",
              "      <td>-0.864616</td>\n",
              "      <td>-0.255164</td>\n",
              "      <td>1.000000</td>\n",
              "      <td>0.323375</td>\n",
              "      <td>0.092729</td>\n",
              "      <td>-0.755608</td>\n",
              "      <td>-0.751170</td>\n",
              "    </tr>\n",
              "    <tr>\n",
              "      <th>Health (Life Expectancy)</th>\n",
              "      <td>-0.228777</td>\n",
              "      <td>-0.801508</td>\n",
              "      <td>0.323375</td>\n",
              "      <td>1.000000</td>\n",
              "      <td>-0.023085</td>\n",
              "      <td>-0.006240</td>\n",
              "      <td>-0.516796</td>\n",
              "    </tr>\n",
              "    <tr>\n",
              "      <th>Freedom</th>\n",
              "      <td>0.175874</td>\n",
              "      <td>-0.446964</td>\n",
              "      <td>0.092729</td>\n",
              "      <td>-0.023085</td>\n",
              "      <td>1.000000</td>\n",
              "      <td>0.428364</td>\n",
              "      <td>0.168730</td>\n",
              "    </tr>\n",
              "    <tr>\n",
              "      <th>Trust (Government Corruption)</th>\n",
              "      <td>0.935903</td>\n",
              "      <td>-0.122639</td>\n",
              "      <td>-0.755608</td>\n",
              "      <td>-0.006240</td>\n",
              "      <td>0.428364</td>\n",
              "      <td>1.000000</td>\n",
              "      <td>0.783696</td>\n",
              "    </tr>\n",
              "    <tr>\n",
              "      <th>Generosity</th>\n",
              "      <td>0.926392</td>\n",
              "      <td>0.510947</td>\n",
              "      <td>-0.751170</td>\n",
              "      <td>-0.516796</td>\n",
              "      <td>0.168730</td>\n",
              "      <td>0.783696</td>\n",
              "      <td>1.000000</td>\n",
              "    </tr>\n",
              "  </tbody>\n",
              "</table>\n",
              "</div>"
            ],
            "text/plain": [
              "                               Happiness Score  ...  Generosity\n",
              "Happiness Score                       1.000000  ...    0.926392\n",
              "Economy (GDP per Capita)              0.215951  ...    0.510947\n",
              "Family                               -0.864616  ...   -0.751170\n",
              "Health (Life Expectancy)             -0.228777  ...   -0.516796\n",
              "Freedom                               0.175874  ...    0.168730\n",
              "Trust (Government Corruption)         0.935903  ...    0.783696\n",
              "Generosity                            0.926392  ...    1.000000\n",
              "\n",
              "[7 rows x 7 columns]"
            ]
          },
          "metadata": {
            "tags": []
          },
          "execution_count": 156
        }
      ]
    },
    {
      "cell_type": "markdown",
      "metadata": {
        "id": "O0ntSI_S6KWu",
        "colab_type": "text"
      },
      "source": [
        "Looking at all the measures for the US, there is a much stronger correlation between Happiness Score and Trust and Generosity. Interestingly, Freedom had a very low correlation. But we can still see why this makes sense, the US prides itself on it's government and its communities. Let's see about Finland. "
      ]
    },
    {
      "cell_type": "code",
      "metadata": {
        "id": "cPGdM2nk6fK0",
        "colab_type": "code",
        "outputId": "80a8c692-de0a-425e-da87-fa143bbf2348",
        "colab": {
          "base_uri": "https://localhost:8080/",
          "height": 266
        }
      },
      "source": [
        "fin_2 = year_over_year(['Year', 'Happiness Score', 'Economy (GDP per Capita)', 'Family', 'Health (Life Expectancy)', 'Freedom', 'Trust (Government Corruption)',\n",
        "       'Generosity'], [hp_2015, hp_2016, hp_2017, hp_2018, hp_2019], country='Finland')\n",
        "fin_2_corr = fin_2.corr()\n",
        "fin_2_corr"
      ],
      "execution_count": 157,
      "outputs": [
        {
          "output_type": "execute_result",
          "data": {
            "text/html": [
              "<div>\n",
              "<style scoped>\n",
              "    .dataframe tbody tr th:only-of-type {\n",
              "        vertical-align: middle;\n",
              "    }\n",
              "\n",
              "    .dataframe tbody tr th {\n",
              "        vertical-align: top;\n",
              "    }\n",
              "\n",
              "    .dataframe thead th {\n",
              "        text-align: right;\n",
              "    }\n",
              "</style>\n",
              "<table border=\"1\" class=\"dataframe\">\n",
              "  <thead>\n",
              "    <tr style=\"text-align: right;\">\n",
              "      <th></th>\n",
              "      <th>Happiness Score</th>\n",
              "      <th>Economy (GDP per Capita)</th>\n",
              "      <th>Family</th>\n",
              "      <th>Health (Life Expectancy)</th>\n",
              "      <th>Freedom</th>\n",
              "      <th>Trust (Government Corruption)</th>\n",
              "      <th>Generosity</th>\n",
              "    </tr>\n",
              "  </thead>\n",
              "  <tbody>\n",
              "    <tr>\n",
              "      <th>Happiness Score</th>\n",
              "      <td>1.000000</td>\n",
              "      <td>-0.290548</td>\n",
              "      <td>0.749227</td>\n",
              "      <td>0.791554</td>\n",
              "      <td>0.134183</td>\n",
              "      <td>-0.503196</td>\n",
              "      <td>-0.958863</td>\n",
              "    </tr>\n",
              "    <tr>\n",
              "      <th>Economy (GDP per Capita)</th>\n",
              "      <td>-0.290548</td>\n",
              "      <td>1.000000</td>\n",
              "      <td>-0.161086</td>\n",
              "      <td>-0.609326</td>\n",
              "      <td>-0.609198</td>\n",
              "      <td>-0.421977</td>\n",
              "      <td>0.467284</td>\n",
              "    </tr>\n",
              "    <tr>\n",
              "      <th>Family</th>\n",
              "      <td>0.749227</td>\n",
              "      <td>-0.161086</td>\n",
              "      <td>1.000000</td>\n",
              "      <td>0.469017</td>\n",
              "      <td>0.524348</td>\n",
              "      <td>-0.820438</td>\n",
              "      <td>-0.671542</td>\n",
              "    </tr>\n",
              "    <tr>\n",
              "      <th>Health (Life Expectancy)</th>\n",
              "      <td>0.791554</td>\n",
              "      <td>-0.609326</td>\n",
              "      <td>0.469017</td>\n",
              "      <td>1.000000</td>\n",
              "      <td>0.070447</td>\n",
              "      <td>-0.022251</td>\n",
              "      <td>-0.931900</td>\n",
              "    </tr>\n",
              "    <tr>\n",
              "      <th>Freedom</th>\n",
              "      <td>0.134183</td>\n",
              "      <td>-0.609198</td>\n",
              "      <td>0.524348</td>\n",
              "      <td>0.070447</td>\n",
              "      <td>1.000000</td>\n",
              "      <td>-0.184170</td>\n",
              "      <td>-0.134615</td>\n",
              "    </tr>\n",
              "    <tr>\n",
              "      <th>Trust (Government Corruption)</th>\n",
              "      <td>-0.503196</td>\n",
              "      <td>-0.421977</td>\n",
              "      <td>-0.820438</td>\n",
              "      <td>-0.022251</td>\n",
              "      <td>-0.184170</td>\n",
              "      <td>1.000000</td>\n",
              "      <td>0.311617</td>\n",
              "    </tr>\n",
              "    <tr>\n",
              "      <th>Generosity</th>\n",
              "      <td>-0.958863</td>\n",
              "      <td>0.467284</td>\n",
              "      <td>-0.671542</td>\n",
              "      <td>-0.931900</td>\n",
              "      <td>-0.134615</td>\n",
              "      <td>0.311617</td>\n",
              "      <td>1.000000</td>\n",
              "    </tr>\n",
              "  </tbody>\n",
              "</table>\n",
              "</div>"
            ],
            "text/plain": [
              "                               Happiness Score  ...  Generosity\n",
              "Happiness Score                       1.000000  ...   -0.958863\n",
              "Economy (GDP per Capita)             -0.290548  ...    0.467284\n",
              "Family                                0.749227  ...   -0.671542\n",
              "Health (Life Expectancy)              0.791554  ...   -0.931900\n",
              "Freedom                               0.134183  ...   -0.134615\n",
              "Trust (Government Corruption)        -0.503196  ...    0.311617\n",
              "Generosity                           -0.958863  ...    1.000000\n",
              "\n",
              "[7 rows x 7 columns]"
            ]
          },
          "metadata": {
            "tags": []
          },
          "execution_count": 157
        }
      ]
    },
    {
      "cell_type": "markdown",
      "metadata": {
        "id": "7lFtjopy69cc",
        "colab_type": "text"
      },
      "source": [
        "Finland's scores are drastically different! While their Happiness Score has a significant correlation with Family and Health, they actually have a strong negative correlation with generosity! \n",
        "\n",
        "This shows that different countries have different values and would thus weigh factors differently when calculating their Happiness Score. Since GDP is something that is readily available for each country, let's compare each Country's GDP with their \"feeling\" about economy from the happiness scores. "
      ]
    },
    {
      "cell_type": "code",
      "metadata": {
        "id": "-F0jivJeQJJo",
        "colab_type": "code",
        "colab": {
          "base_uri": "https://localhost:8080/",
          "height": 204
        },
        "outputId": "d9168d2b-3ec9-4a57-eae2-c67fe0e01557"
      },
      "source": [
        "gdp = pd.read_csv('GDP.csv')\n",
        "gdp.head()"
      ],
      "execution_count": 148,
      "outputs": [
        {
          "output_type": "execute_result",
          "data": {
            "text/html": [
              "<div>\n",
              "<style scoped>\n",
              "    .dataframe tbody tr th:only-of-type {\n",
              "        vertical-align: middle;\n",
              "    }\n",
              "\n",
              "    .dataframe tbody tr th {\n",
              "        vertical-align: top;\n",
              "    }\n",
              "\n",
              "    .dataframe thead th {\n",
              "        text-align: right;\n",
              "    }\n",
              "</style>\n",
              "<table border=\"1\" class=\"dataframe\">\n",
              "  <thead>\n",
              "    <tr style=\"text-align: right;\">\n",
              "      <th></th>\n",
              "      <th>rank</th>\n",
              "      <th>country</th>\n",
              "      <th>imfGDP</th>\n",
              "      <th>unGDP</th>\n",
              "      <th>gdpPerCapita</th>\n",
              "      <th>pop</th>\n",
              "    </tr>\n",
              "  </thead>\n",
              "  <tbody>\n",
              "    <tr>\n",
              "      <th>0</th>\n",
              "      <td>1</td>\n",
              "      <td>United States</td>\n",
              "      <td>2.219812e+13</td>\n",
              "      <td>18624475000000</td>\n",
              "      <td>67063.2695</td>\n",
              "      <td>331002.651</td>\n",
              "    </tr>\n",
              "    <tr>\n",
              "      <th>1</th>\n",
              "      <td>2</td>\n",
              "      <td>China</td>\n",
              "      <td>1.546810e+13</td>\n",
              "      <td>11218281029298</td>\n",
              "      <td>10746.7828</td>\n",
              "      <td>1439323.776</td>\n",
              "    </tr>\n",
              "    <tr>\n",
              "      <th>2</th>\n",
              "      <td>3</td>\n",
              "      <td>Japan</td>\n",
              "      <td>5.495420e+12</td>\n",
              "      <td>4936211827875</td>\n",
              "      <td>43450.1405</td>\n",
              "      <td>126476.461</td>\n",
              "    </tr>\n",
              "    <tr>\n",
              "      <th>3</th>\n",
              "      <td>4</td>\n",
              "      <td>Germany</td>\n",
              "      <td>4.157120e+12</td>\n",
              "      <td>3477796274497</td>\n",
              "      <td>49617.1450</td>\n",
              "      <td>83783.942</td>\n",
              "    </tr>\n",
              "    <tr>\n",
              "      <th>4</th>\n",
              "      <td>5</td>\n",
              "      <td>India</td>\n",
              "      <td>3.257720e+12</td>\n",
              "      <td>2259642382872</td>\n",
              "      <td>2360.6592</td>\n",
              "      <td>1380004.385</td>\n",
              "    </tr>\n",
              "  </tbody>\n",
              "</table>\n",
              "</div>"
            ],
            "text/plain": [
              "   rank        country        imfGDP           unGDP  gdpPerCapita          pop\n",
              "0     1  United States  2.219812e+13  18624475000000    67063.2695   331002.651\n",
              "1     2          China  1.546810e+13  11218281029298    10746.7828  1439323.776\n",
              "2     3          Japan  5.495420e+12   4936211827875    43450.1405   126476.461\n",
              "3     4        Germany  4.157120e+12   3477796274497    49617.1450    83783.942\n",
              "4     5          India  3.257720e+12   2259642382872     2360.6592  1380004.385"
            ]
          },
          "metadata": {
            "tags": []
          },
          "execution_count": 148
        }
      ]
    },
    {
      "cell_type": "code",
      "metadata": {
        "id": "CADq_YC_aS1-",
        "colab_type": "code",
        "colab": {
          "base_uri": "https://localhost:8080/",
          "height": 221
        },
        "outputId": "06e7888a-fe44-4d16-b977-9120766c6736"
      },
      "source": [
        "hp_2019_gdp = pd.merge(hp_2019, gdp, left_on='Country', right_on='country').drop(columns=['country'])\n",
        "hp_2019_gdp.head()"
      ],
      "execution_count": 149,
      "outputs": [
        {
          "output_type": "execute_result",
          "data": {
            "text/html": [
              "<div>\n",
              "<style scoped>\n",
              "    .dataframe tbody tr th:only-of-type {\n",
              "        vertical-align: middle;\n",
              "    }\n",
              "\n",
              "    .dataframe tbody tr th {\n",
              "        vertical-align: top;\n",
              "    }\n",
              "\n",
              "    .dataframe thead th {\n",
              "        text-align: right;\n",
              "    }\n",
              "</style>\n",
              "<table border=\"1\" class=\"dataframe\">\n",
              "  <thead>\n",
              "    <tr style=\"text-align: right;\">\n",
              "      <th></th>\n",
              "      <th>Overall rank</th>\n",
              "      <th>Country</th>\n",
              "      <th>Happiness Score</th>\n",
              "      <th>Economy (GDP per Capita)</th>\n",
              "      <th>Family</th>\n",
              "      <th>Health (Life Expectancy)</th>\n",
              "      <th>Freedom</th>\n",
              "      <th>Generosity</th>\n",
              "      <th>Trust (Government Corruption)</th>\n",
              "      <th>Year</th>\n",
              "      <th>rank</th>\n",
              "      <th>imfGDP</th>\n",
              "      <th>unGDP</th>\n",
              "      <th>gdpPerCapita</th>\n",
              "      <th>pop</th>\n",
              "    </tr>\n",
              "  </thead>\n",
              "  <tbody>\n",
              "    <tr>\n",
              "      <th>0</th>\n",
              "      <td>1</td>\n",
              "      <td>Finland</td>\n",
              "      <td>7.769</td>\n",
              "      <td>1.340</td>\n",
              "      <td>1.587</td>\n",
              "      <td>0.986</td>\n",
              "      <td>0.596</td>\n",
              "      <td>0.153</td>\n",
              "      <td>0.393</td>\n",
              "      <td>2019</td>\n",
              "      <td>44</td>\n",
              "      <td>2.892430e+11</td>\n",
              "      <td>238502900312</td>\n",
              "      <td>52203.1433</td>\n",
              "      <td>5540.720</td>\n",
              "    </tr>\n",
              "    <tr>\n",
              "      <th>1</th>\n",
              "      <td>2</td>\n",
              "      <td>Denmark</td>\n",
              "      <td>7.600</td>\n",
              "      <td>1.383</td>\n",
              "      <td>1.573</td>\n",
              "      <td>0.996</td>\n",
              "      <td>0.592</td>\n",
              "      <td>0.252</td>\n",
              "      <td>0.410</td>\n",
              "      <td>2019</td>\n",
              "      <td>39</td>\n",
              "      <td>3.645460e+11</td>\n",
              "      <td>306899653410</td>\n",
              "      <td>62937.3768</td>\n",
              "      <td>5792.202</td>\n",
              "    </tr>\n",
              "    <tr>\n",
              "      <th>2</th>\n",
              "      <td>3</td>\n",
              "      <td>Norway</td>\n",
              "      <td>7.554</td>\n",
              "      <td>1.488</td>\n",
              "      <td>1.582</td>\n",
              "      <td>1.028</td>\n",
              "      <td>0.603</td>\n",
              "      <td>0.271</td>\n",
              "      <td>0.341</td>\n",
              "      <td>2019</td>\n",
              "      <td>31</td>\n",
              "      <td>4.386230e+11</td>\n",
              "      <td>371068933176</td>\n",
              "      <td>80908.2275</td>\n",
              "      <td>5421.241</td>\n",
              "    </tr>\n",
              "    <tr>\n",
              "      <th>3</th>\n",
              "      <td>4</td>\n",
              "      <td>Iceland</td>\n",
              "      <td>7.494</td>\n",
              "      <td>1.380</td>\n",
              "      <td>1.624</td>\n",
              "      <td>1.026</td>\n",
              "      <td>0.591</td>\n",
              "      <td>0.354</td>\n",
              "      <td>0.118</td>\n",
              "      <td>2019</td>\n",
              "      <td>106</td>\n",
              "      <td>2.682100e+10</td>\n",
              "      <td>20269659972</td>\n",
              "      <td>78597.9493</td>\n",
              "      <td>341.243</td>\n",
              "    </tr>\n",
              "    <tr>\n",
              "      <th>4</th>\n",
              "      <td>5</td>\n",
              "      <td>Netherlands</td>\n",
              "      <td>7.488</td>\n",
              "      <td>1.396</td>\n",
              "      <td>1.522</td>\n",
              "      <td>0.999</td>\n",
              "      <td>0.557</td>\n",
              "      <td>0.322</td>\n",
              "      <td>0.298</td>\n",
              "      <td>2019</td>\n",
              "      <td>17</td>\n",
              "      <td>9.549310e+11</td>\n",
              "      <td>777227541581</td>\n",
              "      <td>55730.2675</td>\n",
              "      <td>17134.872</td>\n",
              "    </tr>\n",
              "  </tbody>\n",
              "</table>\n",
              "</div>"
            ],
            "text/plain": [
              "   Overall rank      Country  ...  gdpPerCapita        pop\n",
              "0             1      Finland  ...    52203.1433   5540.720\n",
              "1             2      Denmark  ...    62937.3768   5792.202\n",
              "2             3       Norway  ...    80908.2275   5421.241\n",
              "3             4      Iceland  ...    78597.9493    341.243\n",
              "4             5  Netherlands  ...    55730.2675  17134.872\n",
              "\n",
              "[5 rows x 15 columns]"
            ]
          },
          "metadata": {
            "tags": []
          },
          "execution_count": 149
        }
      ]
    },
    {
      "cell_type": "code",
      "metadata": {
        "id": "hdFNHBKid1l4",
        "colab_type": "code",
        "colab": {
          "base_uri": "https://localhost:8080/",
          "height": 235
        },
        "outputId": "cafd2fb5-29e7-4ff4-98df-cd4b747289ea"
      },
      "source": [
        "import math\n",
        "hp_2019_gdp['LogGDP'] = hp_2019_gdp['gdpPerCapita'].apply(lambda x: math.log(x))\n",
        "hp_2019_gdp_corr = hp_2019_gdp[['Happiness Score', 'Economy (GDP per Capita)', 'LogGDP', 'rank', 'gdpPerCapita', 'pop']].corr()\n",
        "hp_2019_gdp_corr"
      ],
      "execution_count": 150,
      "outputs": [
        {
          "output_type": "execute_result",
          "data": {
            "text/html": [
              "<div>\n",
              "<style scoped>\n",
              "    .dataframe tbody tr th:only-of-type {\n",
              "        vertical-align: middle;\n",
              "    }\n",
              "\n",
              "    .dataframe tbody tr th {\n",
              "        vertical-align: top;\n",
              "    }\n",
              "\n",
              "    .dataframe thead th {\n",
              "        text-align: right;\n",
              "    }\n",
              "</style>\n",
              "<table border=\"1\" class=\"dataframe\">\n",
              "  <thead>\n",
              "    <tr style=\"text-align: right;\">\n",
              "      <th></th>\n",
              "      <th>Happiness Score</th>\n",
              "      <th>Economy (GDP per Capita)</th>\n",
              "      <th>LogGDP</th>\n",
              "      <th>rank</th>\n",
              "      <th>gdpPerCapita</th>\n",
              "      <th>pop</th>\n",
              "    </tr>\n",
              "  </thead>\n",
              "  <tbody>\n",
              "    <tr>\n",
              "      <th>Happiness Score</th>\n",
              "      <td>1.000000</td>\n",
              "      <td>0.795460</td>\n",
              "      <td>0.844035</td>\n",
              "      <td>-0.589367</td>\n",
              "      <td>0.737725</td>\n",
              "      <td>-0.067965</td>\n",
              "    </tr>\n",
              "    <tr>\n",
              "      <th>Economy (GDP per Capita)</th>\n",
              "      <td>0.795460</td>\n",
              "      <td>1.000000</td>\n",
              "      <td>0.968971</td>\n",
              "      <td>-0.691437</td>\n",
              "      <td>0.746380</td>\n",
              "      <td>0.003452</td>\n",
              "    </tr>\n",
              "    <tr>\n",
              "      <th>LogGDP</th>\n",
              "      <td>0.844035</td>\n",
              "      <td>0.968971</td>\n",
              "      <td>1.000000</td>\n",
              "      <td>-0.687183</td>\n",
              "      <td>0.826587</td>\n",
              "      <td>-0.014786</td>\n",
              "    </tr>\n",
              "    <tr>\n",
              "      <th>rank</th>\n",
              "      <td>-0.589367</td>\n",
              "      <td>-0.691437</td>\n",
              "      <td>-0.687183</td>\n",
              "      <td>1.000000</td>\n",
              "      <td>-0.505415</td>\n",
              "      <td>-0.288475</td>\n",
              "    </tr>\n",
              "    <tr>\n",
              "      <th>gdpPerCapita</th>\n",
              "      <td>0.737725</td>\n",
              "      <td>0.746380</td>\n",
              "      <td>0.826587</td>\n",
              "      <td>-0.505415</td>\n",
              "      <td>1.000000</td>\n",
              "      <td>-0.057445</td>\n",
              "    </tr>\n",
              "    <tr>\n",
              "      <th>pop</th>\n",
              "      <td>-0.067965</td>\n",
              "      <td>0.003452</td>\n",
              "      <td>-0.014786</td>\n",
              "      <td>-0.288475</td>\n",
              "      <td>-0.057445</td>\n",
              "      <td>1.000000</td>\n",
              "    </tr>\n",
              "  </tbody>\n",
              "</table>\n",
              "</div>"
            ],
            "text/plain": [
              "                          Happiness Score  ...       pop\n",
              "Happiness Score                  1.000000  ... -0.067965\n",
              "Economy (GDP per Capita)         0.795460  ...  0.003452\n",
              "LogGDP                           0.844035  ... -0.014786\n",
              "rank                            -0.589367  ... -0.288475\n",
              "gdpPerCapita                     0.737725  ... -0.057445\n",
              "pop                             -0.067965  ...  1.000000\n",
              "\n",
              "[6 rows x 6 columns]"
            ]
          },
          "metadata": {
            "tags": []
          },
          "execution_count": 150
        }
      ]
    },
    {
      "cell_type": "code",
      "metadata": {
        "id": "0FE11ySzdZf-",
        "colab_type": "code",
        "colab": {
          "base_uri": "https://localhost:8080/",
          "height": 654
        },
        "outputId": "c0e033fc-df48-484f-c39a-7ad743d60e89"
      },
      "source": [
        "plt.figure(figsize=(10,10))\n",
        "df = hp_2019_gdp\n",
        "\n",
        "sns.regplot(x='LogGDP',y='Economy (GDP per Capita)', data=df, color='black')\n",
        "sns.scatterplot(x='LogGDP',y='Economy (GDP per Capita)', data=df[df['Country'] == 'Finland'], color='orange', label='Finland')\n",
        "sns.scatterplot(x='LogGDP',y='Economy (GDP per Capita)', data=df[df['Country'] == 'United States'], color='red', label='United States')\n",
        "sns.scatterplot(x='LogGDP',y='Economy (GDP per Capita)', data=df[df['Country'] == 'Mexico'], color='green', label='Mexico')\n",
        "\n",
        "plt.legend()\n",
        "plt.title('LogGDP vs. Perceived Importance')\n",
        "plt.xlabel('Actual GDP (Log)')\n",
        "plt.ylabel('Perceived Importance to Happiness')"
      ],
      "execution_count": 151,
      "outputs": [
        {
          "output_type": "execute_result",
          "data": {
            "text/plain": [
              "Text(0, 0.5, 'Perceived Importance to Happiness')"
            ]
          },
          "metadata": {
            "tags": []
          },
          "execution_count": 151
        },
        {
          "output_type": "display_data",
          "data": {
            "image/png": "[encoded data removed]",
            "text/plain": [
              "<Figure size 720x720 with 1 Axes>"
            ]
          },
          "metadata": {
            "tags": []
          }
        }
      ]
    },
    {
      "cell_type": "markdown",
      "metadata": {
        "id": "v2mafL66iXJQ",
        "colab_type": "text"
      },
      "source": [
        "This provides a little clearer picture of what we were discussing above. It's not entirely clear that that everyone agrees on the same standards to achieve happiness within their Country. As GDP rises, so does a country's perceived importance in its relation to happiness score. However, the graph above took the log of gdp, let's look at it without the logarithm applied. "
      ]
    },
    {
      "cell_type": "code",
      "metadata": {
        "id": "DWXQD7OCjh7J",
        "colab_type": "code",
        "colab": {
          "base_uri": "https://localhost:8080/",
          "height": 654
        },
        "outputId": "1f2cb329-4a34-488a-c3d2-6e0f2af32647"
      },
      "source": [
        "plt.figure(figsize=(10,10))\n",
        "df = hp_2019_gdp\n",
        "\n",
        "sns.scatterplot(x='gdpPerCapita',y='Economy (GDP per Capita)', data=df, color='black')\n",
        "sns.scatterplot(x='gdpPerCapita',y='Economy (GDP per Capita)', data=df[df['Country'] == 'Finland'], color='orange', label='Finland')\n",
        "sns.scatterplot(x='gdpPerCapita',y='Economy (GDP per Capita)', data=df[df['Country'] == 'United States'], color='red', label='United States')\n",
        "sns.scatterplot(x='gdpPerCapita',y='Economy (GDP per Capita)', data=df[df['Country'] == 'Mexico'], color='green', label='Mexico')\n",
        "\n",
        "plt.legend()\n",
        "plt.title('GDP vs. Perceived Importance')\n",
        "plt.xlabel('Actual GDP')\n",
        "plt.ylabel('Perceived Importance to Happiness')"
      ],
      "execution_count": 152,
      "outputs": [
        {
          "output_type": "execute_result",
          "data": {
            "text/plain": [
              "Text(0, 0.5, 'Perceived Importance to Happiness')"
            ]
          },
          "metadata": {
            "tags": []
          },
          "execution_count": 152
        },
        {
          "output_type": "display_data",
          "data": {
            "image/png": "[encoded data removed]",
            "text/plain": [
              "<Figure size 720x720 with 1 Axes>"
            ]
          },
          "metadata": {
            "tags": []
          }
        }
      ]
    },
    {
      "cell_type": "markdown",
      "metadata": {
        "id": "5uMp_S26josW",
        "colab_type": "text"
      },
      "source": [
        "In the first plot, the USA and Finland were very close in terms of their X and Y Values, here we see their actual GDP values are farther apart than their perceived importance to their happiness score. So can money truly buy happiness? Up to a certain extent!\n",
        "\n",
        "Alternatively, I included Mexico to show how sharp a curve it really is in terms of GDP perceived importance and actual GDP. \n",
        "\n",
        "Ultimately we learned that GDP matters to those that have it. In countries that stress strong economic performance and sustain those results, their happiness rankings become more important dictated by GDP performance. \n",
        "\n",
        "Similarly, we may expect similar results for countries with cultures that stress the importance of family to have higher values for Family in the Happiness rankings. "
      ]
    }
  ]
}